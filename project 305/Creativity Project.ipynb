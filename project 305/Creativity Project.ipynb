{
 "cells": [
  {
   "cell_type": "markdown",
   "id": "7e3c6d72",
   "metadata": {},
   "source": [
    "## Name : Ezekiel Dong\n",
    "## Topic : Finding the Sersic profile and Density Profile of Galaxy"
   ]
  },
  {
   "cell_type": "code",
   "execution_count": 1,
   "id": "0013a4f8",
   "metadata": {},
   "outputs": [],
   "source": [
    "#importing modules\n",
    "import numpy as np\n",
    "import astropy.units as u\n",
    "from astropy.constants import G\n",
    "\n",
    "# import plotting modules\n",
    "import matplotlib\n",
    "import matplotlib.pyplot as plt\n",
    "from matplotlib.colors import LogNorm\n",
    "%matplotlib inline\n",
    "\n",
    "# my modules from previou class\n",
    "from ReadFile import Read\n",
    "from MassProfile import MassProfile\n",
    "from CenterOfMass2 import CenterOfMass\n",
    "from GalaxyMass import ComponentMass\n",
    "# the class CenterOfMass is not written by me, it's from anothor of my class\n",
    "# The code I build for this class is the sersic function and following."
   ]
  },
  {
   "cell_type": "code",
   "execution_count": 2,
   "id": "23416f34",
   "metadata": {},
   "outputs": [],
   "source": [
    "class TotalMass:\n",
    "    # That's the code I am building for this class\n",
    "    def __init__(self, snap_number_M31, snap_number_MW):\n",
    "        # Create instances for MassProfile class for M31 and MW\n",
    "        self.Mass_M31 = MassProfile(\"M31\", snap_number_M31)\n",
    "        self.Mass_MW = MassProfile(\"MW\", snap_number_MW)\n",
    "\n",
    "        # Read data for M31\n",
    "        self.time, self.total, self.data = Read(\"M31_000.txt\")\n",
    "        self.M_31 = self.data['m'] * u.Msun\n",
    "        self.x_31 = self.data['x'] * u.kpc\n",
    "        self.y_31 = self.data['y'] * u.kpc\n",
    "        self.z_31 = self.data['z'] * u.kpc\n",
    "\n",
    "        # Read data for MW\n",
    "        self.time_MW, self.total_MW, self.data_MW = Read(\"MW_000.txt\")\n",
    "        self.M_MW = self.data_MW['m'] * u.Msun\n",
    "        self.x_MW = self.data_MW['x'] * u.kpc\n",
    "        self.y_MW = self.data_MW['y'] * u.kpc\n",
    "        self.z_MW = self.data_MW['z'] * u.kpc\n",
    "\n",
    "        # Combine particle data of M31 and MW to simulate merger\n",
    "        self.M_MW_M31 = np.append(self.M_31, self.M_MW)\n",
    "        self.x_MW_M31 = np.append(self.x_MW, self.x_31)\n",
    "        self.y_MW_M31 = np.append(self.y_MW, self.y_31)\n",
    "        self.z_MW_M31 = np.append(self.z_MW, self.z_31)\n",
    "\n",
    "    def Massenclosed(self, ptype, r_0, r_f, n):\n",
    "        com = CenterOfMass(\"M31_000.txt\", 2)\n",
    "        com_pos = com.COM_P(0.1, 2.0)\n",
    "        index = np.where(self.data['type'] == ptype)\n",
    "        \n",
    "        # Finding CenterOfMass for remnant.\n",
    "        xG = self.x_MW_M31[index] - com_pos[0]\n",
    "        yG = self.y_MW_M31[index] - com_pos[1]\n",
    "        zG = self.z_MW_M31[index] - com_pos[2]\n",
    "        rG = np.sqrt(xG**2 + yG**2 + zG**2)\n",
    "        mG = self.M_MW_M31[index]\n",
    "        mG = mG.value\n",
    "        \n",
    "        # Let radii increase by a small amount every iteration (delta r) \n",
    "        # from r_0 kpc to r_f kpc. Thus giving a small change instead of \n",
    "        # taking the whole radius.\n",
    "        radii = np.linspace(r_0, r_f, n)\n",
    "        m_enc = np.zeros(np.size(radii))\n",
    "        density_r = np.zeros(np.size(radii - 1))\n",
    "        \n",
    "        for i, radius in enumerate(radii[:-1]):\n",
    "            indexR = np.where((rG >= radius * u.kpc) & (rG <= radii[i + 1] * u.kpc))\n",
    "            m_enc[i] = np.sum(mG[indexR])\n",
    "            shell_area = 4 * np.pi * radius ** 2  # Surface area of the shell\n",
    "            density = m_enc[i] / shell_area  # Density in the shell\n",
    "            density_r[i + 1] = density\n",
    "    \n",
    "        return (density_r * (1e10 * u.Msun / u.pc**3))\n",
    "\n",
    "    def sersicE(self, r, re, n, mtot):\n",
    "        #Total luminosity\n",
    "        lum = mtot\n",
    "        #Effective surface brightness is\n",
    "        Ie = lum/7.2/np.pi/re**2\n",
    "        a = (r/re)**(1.0/n)\n",
    "        b = -7.67*(a-1)\n",
    "        # The surface brightness\n",
    "        I = Ie*np.exp(-7.67*((r/re)**(1.0/n)-1.0))\n",
    "        I = Ie*np.exp(b)\n",
    "        return I"
   ]
  },
  {
   "cell_type": "code",
   "execution_count": 3,
   "id": "86485374",
   "metadata": {},
   "outputs": [
    {
     "data": {
      "image/png": "[encoded data removed]",
      "text/plain": [
       "<Figure size 720x432 with 1 Axes>"
      ]
     },
     "metadata": {
      "needs_background": "light"
     },
     "output_type": "display_data"
    }
   ],
   "source": [
    "tm = TotalMass(snap_number_M31=0, snap_number_MW=0) \n",
    "\n",
    "ptype = 3  # Choose desired particle type (1 for dark matter, 2 for gas, and 3 for stars)\n",
    "r_0 = 0.05\n",
    "r_f = 60\n",
    "n = 1000\n",
    "density_r = tm.Massenclosed(ptype, r_0, r_f, n)\n",
    "\n",
    "r = np.linspace(r_0, r_f, n)\n",
    "re = 5  # Example value for effective radius, adjust as needed\n",
    "sersic_index = 4  # Example value for Sersic index, adjust as needed\n",
    "total_stellar_mass = 1e11  # Example value for total stellar mass, adjust as needed\n",
    "sersic_profile = tm.sersicE(r, re, sersic_index, total_stellar_mass)\n",
    "\n",
    "plt.figure(figsize=(10, 6))\n",
    "\n",
    "plt.plot(r, density_r, label='Density Profile', color='blue')\n",
    "plt.plot(r, sersic_profile, label='Sersic Profile', color='red')\n",
    "\n",
    "plt.xscale('log')\n",
    "plt.yscale('log')\n",
    "\n",
    "plt.xlabel('Radius (kpc)')\n",
    "plt.ylabel('Density ($M_\\odot/pc^3$)')\n",
    "plt.legend()\n",
    "plt.title('Density Profile and Sersic Profile of Merger Remnant')\n",
    "\n",
    "plt.show()"
   ]
  },
  {
   "cell_type": "code",
   "execution_count": null,
   "id": "9135e82b",
   "metadata": {},
   "outputs": [],
   "source": []
  },
  {
   "cell_type": "code",
   "execution_count": null,
   "id": "7e11d3bc",
   "metadata": {},
   "outputs": [],
   "source": []
  },
  {
   "cell_type": "code",
   "execution_count": null,
   "id": "13dc9a13",
   "metadata": {},
   "outputs": [],
   "source": []
  },
  {
   "cell_type": "code",
   "execution_count": null,
   "id": "83a13abd",
   "metadata": {},
   "outputs": [],
   "source": []
  },
  {
   "cell_type": "code",
   "execution_count": null,
   "id": "b2ac2185",
   "metadata": {},
   "outputs": [],
   "source": []
  },
  {
   "cell_type": "code",
   "execution_count": null,
   "id": "9638b191",
   "metadata": {},
   "outputs": [],
   "source": []
  }
 ],
 "metadata": {
  "kernelspec": {
   "display_name": "Python 3",
   "language": "python",
   "name": "python3"
  },
  "language_info": {
   "codemirror_mode": {
    "name": "ipython",
    "version": 3
   },
   "file_extension": ".py",
   "mimetype": "text/x-python",
   "name": "python",
   "nbconvert_exporter": "python",
   "pygments_lexer": "ipython3",
   "version": "3.8.8"
  }
 },
 "nbformat": 4,
 "nbformat_minor": 5
}
